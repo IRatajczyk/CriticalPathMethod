{
 "cells": [
  {
   "cell_type": "code",
   "execution_count": null,
   "metadata": {},
   "outputs": [],
   "source": [
    "from CPM import Event, Activity, CriticalPathMethod"
   ]
  },
  {
   "cell_type": "code",
   "execution_count": null,
   "metadata": {},
   "outputs": [],
   "source": [
    "Project = CPM()"
   ]
  },
  {
   "cell_type": "code",
   "execution_count": null,
   "metadata": {},
   "outputs": [],
   "source": [
    "A=Event('A',[])\n",
    "B=Event('B',[A])\n",
    "C=Event('C',[A])\n",
    "D=Event('D',[A])\n",
    "E=Event('E',[B,C,D])\n",
    "F=Event('F',[B,C,D])\n",
    "G=Event('G',[B,C,D])\n",
    "H=Event('H',[E])\n",
    "I=Event('I',[E,F,G])\n",
    "J=Event('J',[G])\n",
    "K=Event('K',[H,I,J])"
   ]
  },
  {
   "cell_type": "code",
   "execution_count": null,
   "metadata": {
    "collapsed": true
   },
   "outputs": [],
   "source": [
    "for event in (A,B,C,D,E,F,G,H,I,J,K):\n",
    "    Project.add_event(event)\n",
    "Project.update()\n",
    "\n",
    "\n",
    "Project.add_Activity(Activity(0),A,B)\n",
    "Project.add_Activity(Activity(2),A,C)\n",
    "Project.add_Activity(Activity(1),A,D)\n",
    "Project.add_Activity(Activity(5),B,E)\n",
    "Project.add_Activity(Activity(7),B,F)\n",
    "Project.add_Activity(Activity(8),B,G)\n",
    "Project.add_Activity(Activity(6),C,E)\n",
    "Project.add_Activity(Activity(5),C,F)\n",
    "Project.add_Activity(Activity(2),C,G)\n",
    "Project.add_Activity(Activity(1),D,E)\n",
    "Project.add_Activity(Activity(5),D,F)\n",
    "Project.add_Activity(Activity(6),D,G)\n",
    "Project.add_Activity(Activity(2),E,H)\n",
    "Project.add_Activity(Activity(9),E,I)\n",
    "Project.add_Activity(Activity(1),F,I)\n",
    "Project.add_Activity(Activity(6),G,I)\n",
    "Project.add_Activity(Activity(4),G,J)\n",
    "Project.add_Activity(Activity(7),H,K)\n",
    "Project.add_Activity(Activity(0),I,K)\n",
    "Project.add_Activity(Activity(3),J,K)\n",
    "\n",
    "\n",
    "Project.proceed()\n",
    "\n",
    "for elem in Project.find_critical_path():\n",
    "    print(elem)\n",
    "\n",
    "Project.gantt_chart()"
   ]
  }
 ],
 "metadata": {
  "kernelspec": {
   "display_name": "Python 3.8.8 ('base')",
   "language": "python",
   "name": "python3"
  },
  "language_info": {
   "codemirror_mode": {
    "name": "ipython",
    "version": 2
   },
   "file_extension": ".py",
   "mimetype": "text/x-python",
   "name": "python",
   "nbconvert_exporter": "python",
   "pygments_lexer": "ipython2",
   "version": "3.8.8"
  },
  "vscode": {
   "interpreter": {
    "hash": "e6872c4e2fcfca4bb0903e31301f264dbaee0c79f75ba7993f9d6458ee6f017f"
   }
  }
 },
 "nbformat": 4,
 "nbformat_minor": 0
}
